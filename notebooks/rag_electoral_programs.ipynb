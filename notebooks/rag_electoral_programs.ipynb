{
 "cells": [
  {
   "cell_type": "markdown",
   "id": "50c880ea",
   "metadata": {},
   "source": [
    "### Libraries\n"
   ]
  },
  {
   "cell_type": "code",
   "execution_count": 29,
   "id": "685b0a69",
   "metadata": {},
   "outputs": [],
   "source": [
    "from langchain_community.vectorstores import Chroma\n",
    "from langchain_community.document_loaders import PyPDFLoader, DirectoryLoader\n",
    "from langchain_community.chat_models import ChatOllama\n",
    "from langchain_community.embeddings.fastembed import FastEmbedEmbeddings\n",
    "from langchain.text_splitter import RecursiveCharacterTextSplitter\n",
    "from langchain.prompts import PromptTemplate\n",
    "from langchain.chains.combine_documents import create_stuff_documents_chain\n",
    "from langchain.chains import create_retrieval_chain\n",
    "from pathlib import Path"
   ]
  },
  {
   "cell_type": "markdown",
   "id": "db6c4d83",
   "metadata": {},
   "source": [
    "### Split the doucment into Chunks & Store them in Vector Store"
   ]
  },
  {
   "cell_type": "code",
   "execution_count": 30,
   "id": "cf6c7128",
   "metadata": {},
   "outputs": [],
   "source": [
    "def enrich_chunks_with_metadata(chunks):\n",
    "    enriched = []\n",
    "    for chunk in chunks:\n",
    "        meta = chunk.metadata.copy()\n",
    "        source_path = Path(meta.get(\"source\", \"\"))\n",
    "        filename = source_path.name\n",
    "        page_number = meta.get(\"page\", -1)\n",
    "        \n",
    "        chunk.metadata.update({\n",
    "            \"filename\": filename,\n",
    "            \"page_number\": page_number\n",
    "        })\n",
    "        enriched.append(chunk)\n",
    "    return enriched"
   ]
  },
  {
   "cell_type": "code",
   "execution_count": 31,
   "id": "2c1badaa",
   "metadata": {},
   "outputs": [],
   "source": [
    "def ingest():\n",
    "    loader = DirectoryLoader(\n",
    "        path=\"electoral_programs\",\n",
    "        glob=\"**/*.pdf\",\n",
    "        loader_cls=PyPDFLoader,\n",
    "        show_progress=True\n",
    "    )\n",
    "    pages = loader.load()\n",
    "    \n",
    "    text_splitter = RecursiveCharacterTextSplitter(\n",
    "        chunk_size=1000,\n",
    "        chunk_overlap=200,\n",
    "        separators=[\"\\n\\n\", \"\\n\", \".\", \" \", \"\"],\n",
    "    )\n",
    "    \n",
    "    chunks = text_splitter.split_documents(pages)\n",
    "    enriched_chunks = enrich_chunks_with_metadata(chunks)\n",
    "\n",
    "    print(f\"Split {len(pages)} documents into {len(enriched_chunks)} chunks.\")\n",
    "    \n",
    "    embedding = FastEmbedEmbeddings()\n",
    "    Chroma.from_documents(\n",
    "        documents=enriched_chunks,\n",
    "        embedding=embedding,\n",
    "        persist_directory=\"./sql_chroma_db\"\n",
    "    )"
   ]
  },
  {
   "cell_type": "code",
   "execution_count": 32,
   "id": "402b2301",
   "metadata": {},
   "outputs": [
    {
     "name": "stderr",
     "output_type": "stream",
     "text": [
      "100%|██████████| 9/9 [00:47<00:00,  5.32s/it]\n"
     ]
    },
    {
     "name": "stdout",
     "output_type": "stream",
     "text": [
      "Split 1817 documents into 5081 chunks.\n"
     ]
    }
   ],
   "source": [
    "# only run this once to generate vector store\n",
    "ingest()"
   ]
  },
  {
   "cell_type": "markdown",
   "id": "57b81c23",
   "metadata": {},
   "source": [
    "### Create a RAG chain that retreives relevent chunks and prepares a response"
   ]
  },
  {
   "cell_type": "code",
   "execution_count": 33,
   "id": "17019ad2",
   "metadata": {},
   "outputs": [],
   "source": [
    "def rag_chain():\n",
    "    model = ChatOllama(model=\"llama3\")\n",
    "    #\n",
    "    prompt = PromptTemplate.from_template(\n",
    "        \"\"\"\n",
    "        You are a helpful assistant. Use only the information in the context below to answer the question.\n",
    "\n",
    "        If the context does not contain enough information, say:\n",
    "        \"No relevant context available to answer this question.\"\n",
    "\n",
    "        Include the source (filename and page number) if relevant.\n",
    "\n",
    "        Question: {input}\n",
    "\n",
    "        Context:\n",
    "        {context}\n",
    "\n",
    "        Answer:\n",
    "        \"\"\"\n",
    "    )\n",
    "    #Load vector store\n",
    "    embedding = FastEmbedEmbeddings()\n",
    "    vector_store = Chroma(persist_directory=\"./sql_chroma_db\", embedding_function=embedding)\n",
    "\n",
    "    #Create chain\n",
    "    retriever = vector_store.as_retriever(\n",
    "        search_type=\"similarity_score_threshold\",\n",
    "        search_kwargs={\n",
    "            \"k\": 5,\n",
    "            \"score_threshold\": 0.5,\n",
    "        },\n",
    "    )\n",
    "\n",
    "    document_chain = create_stuff_documents_chain(model, prompt)\n",
    "    chain = create_retrieval_chain(retriever, document_chain)\n",
    "    #\n",
    "    return chain"
   ]
  },
  {
   "cell_type": "code",
   "execution_count": 34,
   "id": "66ffe749",
   "metadata": {},
   "outputs": [],
   "source": [
    "def ask(query: str):\n",
    "    #\n",
    "    chain = rag_chain()\n",
    "    # invoke chain\n",
    "    result = chain.invoke({\"input\": query})\n",
    "    # print results\n",
    "    print(result[\"answer\"])\n",
    "    for doc in result[\"context\"]:\n",
    "        print(\"Source: \", doc.metadata[\"source\"])\n",
    "        print(f\"→ From {doc.metadata['filename']} - Page {doc.metadata['page_number']}\")\n",
    "        print(doc.page_content[:200])"
   ]
  },
  {
   "cell_type": "code",
   "execution_count": 35,
   "id": "e5c8bd75",
   "metadata": {},
   "outputs": [
    {
     "name": "stdout",
     "output_type": "stream",
     "text": [
      "Propostas para a saúde do PS (Partido Socialista)?\n",
      "\n",
      "Sim, há propostas para a saúde do PS presentes no contexto. Algumas dessas propostas incluem:\n",
      "\n",
      "* Reforço do acesso a produtos de recolha menstrual através da sua distribuição gratuita em centros de saúde, escolas e outras instituições.\n",
      "* Priorização da saúde preventiva, com promoção de hábitos de alimentação saudável e atividade física.\n",
      "* Fortalecimento do papel das unidades de saúde, dotando-as com meios de diagnósticos e acompanhamento.\n",
      "\n",
      "Essas propostas são apresentadas no contexto como parte da visão \"Uma Só Saúde\" do PS.\n",
      "Source:  electoral_programs\\Programa-Eleitoral-PAN_Legislativas25.pdf\n"
     ]
    },
    {
     "ename": "KeyError",
     "evalue": "'filename'",
     "output_type": "error",
     "traceback": [
      "\u001b[31m---------------------------------------------------------------------------\u001b[39m",
      "\u001b[31mKeyError\u001b[39m                                  Traceback (most recent call last)",
      "\u001b[36mCell\u001b[39m\u001b[36m \u001b[39m\u001b[32mIn[35]\u001b[39m\u001b[32m, line 1\u001b[39m\n\u001b[32m----> \u001b[39m\u001b[32m1\u001b[39m \u001b[43mask\u001b[49m\u001b[43m(\u001b[49m\u001b[33;43m\"\u001b[39;49m\u001b[33;43mPropostas para a saude do PS\u001b[39;49m\u001b[33;43m\"\u001b[39;49m\u001b[43m)\u001b[49m\n",
      "\u001b[36mCell\u001b[39m\u001b[36m \u001b[39m\u001b[32mIn[34]\u001b[39m\u001b[32m, line 10\u001b[39m, in \u001b[36mask\u001b[39m\u001b[34m(query)\u001b[39m\n\u001b[32m      8\u001b[39m \u001b[38;5;28;01mfor\u001b[39;00m doc \u001b[38;5;129;01min\u001b[39;00m result[\u001b[33m\"\u001b[39m\u001b[33mcontext\u001b[39m\u001b[33m\"\u001b[39m]:\n\u001b[32m      9\u001b[39m     \u001b[38;5;28mprint\u001b[39m(\u001b[33m\"\u001b[39m\u001b[33mSource: \u001b[39m\u001b[33m\"\u001b[39m, doc.metadata[\u001b[33m\"\u001b[39m\u001b[33msource\u001b[39m\u001b[33m\"\u001b[39m])\n\u001b[32m---> \u001b[39m\u001b[32m10\u001b[39m     \u001b[38;5;28mprint\u001b[39m(\u001b[33mf\u001b[39m\u001b[33m\"\u001b[39m\u001b[33m→ From \u001b[39m\u001b[38;5;132;01m{\u001b[39;00m\u001b[43mdoc\u001b[49m\u001b[43m.\u001b[49m\u001b[43mmetadata\u001b[49m\u001b[43m[\u001b[49m\u001b[33;43m'\u001b[39;49m\u001b[33;43mfilename\u001b[39;49m\u001b[33;43m'\u001b[39;49m\u001b[43m]\u001b[49m\u001b[38;5;132;01m}\u001b[39;00m\u001b[33m - Page \u001b[39m\u001b[38;5;132;01m{\u001b[39;00mdoc.metadata[\u001b[33m'\u001b[39m\u001b[33mpage_number\u001b[39m\u001b[33m'\u001b[39m]\u001b[38;5;132;01m}\u001b[39;00m\u001b[33m\"\u001b[39m)\n\u001b[32m     11\u001b[39m     \u001b[38;5;28mprint\u001b[39m(doc.page_content[:\u001b[32m200\u001b[39m])\n",
      "\u001b[31mKeyError\u001b[39m: 'filename'"
     ]
    }
   ],
   "source": [
    "ask(\"Propostas para a saude do PS\")"
   ]
  }
 ],
 "metadata": {
  "kernelspec": {
   "display_name": "politics-bias",
   "language": "python",
   "name": "python3"
  },
  "language_info": {
   "codemirror_mode": {
    "name": "ipython",
    "version": 3
   },
   "file_extension": ".py",
   "mimetype": "text/x-python",
   "name": "python",
   "nbconvert_exporter": "python",
   "pygments_lexer": "ipython3",
   "version": "3.12.9"
  }
 },
 "nbformat": 4,
 "nbformat_minor": 5
}
